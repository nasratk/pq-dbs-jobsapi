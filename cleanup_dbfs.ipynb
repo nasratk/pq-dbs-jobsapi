{
 "cells": [
  {
   "cell_type": "code",
   "execution_count": 0,
   "metadata": {
    "application/vnd.databricks.v1+cell": {
     "cellMetadata": {
      "byteLimit": 2048000,
      "rowLimit": 10000
     },
     "inputWidgets": {},
     "nuid": "201fdfd8-9374-4417-b791-86bd6c8f47e4",
     "showTitle": false,
     "tableResultSettingsMap": {},
     "title": ""
    }
   },
   "outputs": [
    {
     "output_type": "stream",
     "name": "stdout",
     "output_type": "stream",
     "text": [
      "Deleting: dbfs:/tmp/api_responses/result_02aadb.csv/\nDeleting: dbfs:/tmp/api_responses/result_0897a8.csv/\nDeleting: dbfs:/tmp/api_responses/result_1260db.csv/\nDeleting: dbfs:/tmp/api_responses/result_22aa96.csv/\nDeleting: dbfs:/tmp/api_responses/result_2420f3.csv/\nDeleting: dbfs:/tmp/api_responses/result_28f0f2.csv/\nDeleting: dbfs:/tmp/api_responses/result_2d6bf9.csv/\nDeleting: dbfs:/tmp/api_responses/result_32daa6.csv/\nDeleting: dbfs:/tmp/api_responses/result_3d472d.csv/\nDeleting: dbfs:/tmp/api_responses/result_499be0.csv/\nDeleting: dbfs:/tmp/api_responses/result_5c1569.csv/\nDeleting: dbfs:/tmp/api_responses/result_6a11ed.csv/\nDeleting: dbfs:/tmp/api_responses/result_7b506e.csv/\nDeleting: dbfs:/tmp/api_responses/result_7c8cbd.csv/\nDeleting: dbfs:/tmp/api_responses/result_890bc1.csv/\nDeleting: dbfs:/tmp/api_responses/result_9c6021.csv/\nDeleting: dbfs:/tmp/api_responses/result_a80792.csv/\nDeleting: dbfs:/tmp/api_responses/result_a88cb4.csv/\nDeleting: dbfs:/tmp/api_responses/result_bda0b4.csv/\nDeleting: dbfs:/tmp/api_responses/result_c6a9fd.csv/\nDeleting: dbfs:/tmp/api_responses/result_cd0b98.csv/\nDeleting: dbfs:/tmp/api_responses/result_d1e3f3.csv/\nDeleting: dbfs:/tmp/api_responses/result_d59166.csv/\nDeleting: dbfs:/tmp/api_responses/result_d867a5.csv/\nDeleting: dbfs:/tmp/api_responses/result_e0e577.csv/\nDeleting: dbfs:/tmp/api_responses/result_ed0c27.csv/\nDeleting: dbfs:/tmp/api_responses/result_fb6bcf.csv/\nDeleting: dbfs:/tmp/api_responses/result_fceba2.csv/\nDeleting: dbfs:/tmp/api_responses/result_fe9020.csv/\n"
     ]
    }
   ],
   "source": [
    "import os\n",
    "import time\n",
    "from datetime import datetime, timedelta\n",
    "from pyspark.dbutils import DBUtils\n",
    "\n",
    "# Initialize DBUtils\n",
    "dbutils = DBUtils(spark)\n",
    "# Define the directory to check\n",
    "directory = \"dbfs:/tmp/api_responses/\"\n",
    "\n",
    "# Get the current time\n",
    "current_time = time.time()\n",
    "\n",
    "# Define the age threshold (24 hours)\n",
    "age_threshold = 2 * 60 * 60  # 24 hours in seconds\n",
    "\n",
    "# List the files and folders in the specified directory\n",
    "files = dbutils.fs.ls(directory)\n",
    "\n",
    "# Iterate over the files and folders\n",
    "for file_info in files:\n",
    "    # Get the full path\n",
    "    file_path = file_info.path\n",
    "    \n",
    "    # Get the modification time\n",
    "    file_mod_time = file_info.modificationTime / 1000.0  # Convert from milliseconds to seconds\n",
    "    \n",
    "    # Check if the file is older than 24 hours\n",
    "    if current_time - file_mod_time > age_threshold:\n",
    "        print(f\"Deleting: {file_path}\")\n",
    "        dbutils.fs.rm(file_path, True)  # True to delete directories and all their contents\n"
   ]
  }
 ],
 "metadata": {
  "application/vnd.databricks.v1+notebook": {
   "dashboards": [],
   "environmentMetadata": {
    "base_environment": "",
    "client": "1"
   },
   "language": "python",
   "notebookMetadata": {
    "pythonIndentUnit": 2
   },
   "notebookName": "cleanup_dbfs_api_responses",
   "widgets": {}
  },
  "language_info": {
   "name": "python"
  }
 },
 "nbformat": 4,
 "nbformat_minor": 0
}